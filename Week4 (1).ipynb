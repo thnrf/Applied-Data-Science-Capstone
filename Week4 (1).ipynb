{
 "cells": [
  {
   "cell_type": "markdown",
   "metadata": {},
   "source": [
    "# Investigating the Feasibilty of a Shopping Mall  in St. Louis, MO, USA"
   ]
  },
  {
   "cell_type": "markdown",
   "metadata": {},
   "source": [
    "## Applied Data Science Capstone Week 4 \n",
    "## Taher Hajilounezhad\n",
    "### November 2019"
   ]
  },
  {
   "cell_type": "markdown",
   "metadata": {},
   "source": [
    "![title](/notebooks/Pictures/arch.png \"ShowMyImage\")"
   ]
  },
  {
   "cell_type": "markdown",
   "metadata": {},
   "source": [
    "## Introduction\n",
    "### St. Louisis an independent city (city not in a county) in the U.S. state of Missouri. It is the second largest city in the state of Missouri behind Kansas City. It is situated along the western bank of the Mississippi River, which forms the state line between Illinois and Missouri. The estimated 2018 population of the city proper was 302,838 and the bi-state metropolitan area was 2,804,724. Greater St. Louis is the largest metropolitan area in Missouri, second-largest in Illinois, 7th-largest in the Great Lakes Megalopolis, and the 20th-largest in the United States.The architecture of St. Louis exhibits a variety of commercial, residential, and monumental architecture. St. Louis is known for the Gateway Arch, the tallest monument constructed in the United States at 630 feet (190 m). The Arch pays homage to Thomas Jefferson and St. Louis's position as the gateway to the West. \n",
    "### Although there are a few shopping malls, but the increased popoulation requires planning for near future to answer the immidiate needs of citizens. The city hall is interested to investigate possible locations for a new shopping mall. \n",
    "\n"
   ]
  },
  {
   "cell_type": "markdown",
   "metadata": {},
   "source": [
    "## Business Problem\n",
    "### This capstone project aims to study the feasible locations in St. Louis, MO to construct a new shopping mall. Various data science techniques like clustering by machine learning is employed to provide a comprehensive study to suggest to the city hall what locations are best candidates for the shopping mall. \n",
    "## The Target Audience\n",
    "### This project is primarily defined to look for mutiple alternatives the city of St. Louis has to open a new shopping mall. This study can also be used by other investers like banks or real estate businesses to evaluate the investment opportunities. "
   ]
  },
  {
   "cell_type": "markdown",
   "metadata": {},
   "source": [
    "## Data\n",
    "### Following data are used to answer business questions:\n",
    "###    - List of neighborhouds in St. Louis, MO. This determins the scope of project in the heart of Missouri\n",
    "###    - Latitude and longitude of the neighborhouds to plot the map and to get the venue data\n",
    "###    - Venue data specially data related to other local businesses. It will be uised for clustering the neigborhoods.\n"
   ]
  },
  {
   "cell_type": "markdown",
   "metadata": {},
   "source": [
    "## Source of Data\n",
    "### This page on wikipedia \"https://en.wikipedia.org/wiki/List_of_neighborhoods_of_St._Louis\" provides the list of neighborhoods in St. Louis, MO. Web scraping techniques will be employed to extract data from this page, using Python requests and Beautifulsoup package. Later, Python Geocoder will be used to obtain the geographical coordinates of the neighborhoods. Then, the Foursquare API is used to get the venue data. It will provide various categories of venue data inclusding shopping malls. This will help us tackle our business problem. After that, data preparation and wrangling will be applied to finally buid a clustering machine learning model (K-means for this proeject). Finally, Folium will be used for map visualization. "
   ]
  },
  {
   "cell_type": "code",
   "execution_count": null,
   "metadata": {},
   "outputs": [],
   "source": []
  }
 ],
 "metadata": {
  "kernelspec": {
   "display_name": "Python 3",
   "language": "python",
   "name": "python3"
  },
  "language_info": {
   "codemirror_mode": {
    "name": "ipython",
    "version": 3
   },
   "file_extension": ".py",
   "mimetype": "text/x-python",
   "name": "python",
   "nbconvert_exporter": "python",
   "pygments_lexer": "ipython3",
   "version": "3.7.3"
  }
 },
 "nbformat": 4,
 "nbformat_minor": 2
}
